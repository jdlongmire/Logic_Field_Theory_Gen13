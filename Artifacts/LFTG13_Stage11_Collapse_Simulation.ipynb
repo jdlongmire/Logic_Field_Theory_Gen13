{
 "cells": [
  {
   "cell_type": "markdown",
   "id": "fdb62da4",
   "metadata": {},
   "source": [
    "# Stage 11: Multi-Outcome Collapse Simulation (LFT)\n",
    "**Objective**: Demonstrate the refined LFT collapse probability rule in a three-outcome superposition scenario with distinct amplitudes and distinct logical strain values.\n"
   ]
  },
  {
   "cell_type": "code",
   "execution_count": null,
   "id": "d4dfca06",
   "metadata": {},
   "outputs": [],
   "source": [
    "import numpy as np\n",
    "import matplotlib.pyplot as plt\n",
    "import pandas as pd\n",
    "np.random.seed(42)\n"
   ]
  },
  {
   "cell_type": "code",
   "execution_count": null,
   "id": "25222877",
   "metadata": {},
   "outputs": [],
   "source": [
    "# Amplitudes and strain values\n",
    "c = np.array([np.sqrt(0.6), np.sqrt(0.3), np.sqrt(0.1)])  # Normalized amplitudes\n",
    "D = np.array([0.1, 0.2, 0.3])  # Logical strain values for s1, s2, s3\n",
    "labels = ['s1', 's2', 's3']\n",
    "beta_values = [0.1, 0.5, 1.0, 2.0, 5.0]\n"
   ]
  },
  {
   "cell_type": "code",
   "execution_count": null,
   "id": "461ed97e",
   "metadata": {},
   "outputs": [],
   "source": [
    "def lft_probabilities(c, D, beta):\n",
    "    c_sq = np.abs(c)**2\n",
    "    weights = c_sq * np.exp(-beta * D)\n",
    "    return weights / np.sum(weights)\n"
   ]
  },
  {
   "cell_type": "code",
   "execution_count": null,
   "id": "d713b8cd",
   "metadata": {},
   "outputs": [],
   "source": [
    "# Simulate collapse over multiple β values\n",
    "results = []\n",
    "n_trials = 1000\n",
    "for beta in beta_values:\n",
    "    probs = lft_probabilities(c, D, beta)\n",
    "    outcomes = np.random.choice(labels, size=n_trials, p=probs)\n",
    "    counts = [np.sum(outcomes == label) / n_trials for label in labels]\n",
    "    results.append([beta] + counts)\n",
    "\n",
    "df = pd.DataFrame(results, columns=['Beta'] + labels)\n",
    "df"
   ]
  },
  {
   "cell_type": "code",
   "execution_count": null,
   "id": "d4df17f3",
   "metadata": {},
   "outputs": [],
   "source": [
    "plt.figure(figsize=(10, 6))\n",
    "for label in labels:\n",
    "    plt.plot(df['Beta'], df[label], marker='o', label=f'P({label})')\n",
    "plt.xlabel('Beta (Logical Inverse Temperature)')\n",
    "plt.ylabel('Collapse Probability')\n",
    "plt.title('LFT Collapse Probability vs Beta (3 Outcome States)')\n",
    "plt.grid(True)\n",
    "plt.legend()\n",
    "plt.show()"
   ]
  }
 ],
 "metadata": {},
 "nbformat": 4,
 "nbformat_minor": 5
}
