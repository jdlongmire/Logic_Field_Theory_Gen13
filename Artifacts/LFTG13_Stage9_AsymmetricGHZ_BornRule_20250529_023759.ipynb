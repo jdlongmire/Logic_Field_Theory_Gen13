{
 "cells": [
  {
   "cell_type": "markdown",
   "id": "0655c1b7",
   "metadata": {},
   "source": [
    "# Logic Field Theory – Stage 9: Asymmetric GHZ State and the Born Rule\n",
    "\n",
    "This notebook demonstrates how Logic Field Theory (LFT) models the collapse dynamics of an asymmetric GHZ state:\n",
    "\\[\n",
    "|\\psi\\rangle = \\alpha|000\\rangle + \\beta|111\\rangle, \\quad \\text{where } |\\alpha|^2 \\neq |\\beta|^2\n",
    "\\]\n",
    "We test whether LFT's DAG-based collapse simulation, modified to include amplitude-squared weighting, can reproduce the Born rule probabilities across a variety of asymmetries and logical temperatures (β).\n"
   ]
  },
  {
   "cell_type": "code",
   "execution_count": null,
   "id": "63b151f3",
   "metadata": {},
   "outputs": [],
   "source": [
    "import numpy as np\n",
    "import matplotlib.pyplot as plt\n",
    "import pandas as pd\n",
    "import random\n",
    "import networkx as nx\n"
   ]
  },
  {
   "cell_type": "code",
   "execution_count": null,
   "id": "984a79e6",
   "metadata": {},
   "outputs": [],
   "source": [
    "dag = nx.DiGraph()\n",
    "dag.add_edge(\"s_aGHZ\", \"s_000\")\n",
    "dag.add_edge(\"s_aGHZ\", \"s_111\")\n",
    "\n",
    "D_values = {\n",
    "    \"s_aGHZ\": 1.6,\n",
    "    \"s_000\": 0.0,\n",
    "    \"s_111\": 0.0\n",
    "}\n"
   ]
  },
  {
   "cell_type": "code",
   "execution_count": null,
   "id": "0b72ca21",
   "metadata": {},
   "outputs": [],
   "source": [
    "def weighted_collapse(dag, D_values, start_node, weights, beta=1.0, trials=1000):\n",
    "    outcomes = list(weights.keys())\n",
    "    counts = {state: 0 for state in outcomes}\n",
    "\n",
    "    for _ in range(trials):\n",
    "        numerators = [weights[o] * np.exp(-beta * D_values[o]) for o in outcomes]\n",
    "        probs = numerators / np.sum(numerators)\n",
    "        result = random.choices(outcomes, weights=probs)[0]\n",
    "        counts[result] += 1\n",
    "\n",
    "    return pd.DataFrame({\n",
    "        \"Outcome\": list(counts.keys()),\n",
    "        \"Frequency\": list(counts.values()),\n",
    "        \"Empirical Probability\": [v / trials for v in counts.values()],\n",
    "        \"Expected Born Probability\": [weights[o] for o in outcomes]\n",
    "    })\n"
   ]
  },
  {
   "cell_type": "code",
   "execution_count": null,
   "id": "4a1df924",
   "metadata": {},
   "outputs": [],
   "source": [
    "cases = [\n",
    "    {\"alpha2\": 0.25, \"beta2\": 0.75},\n",
    "    {\"alpha2\": 0.33, \"beta2\": 0.67},\n",
    "    {\"alpha2\": 0.50, \"beta2\": 0.50},\n",
    "    {\"alpha2\": 0.67, \"beta2\": 0.33},\n",
    "    {\"alpha2\": 0.75, \"beta2\": 0.25},\n",
    "]\n",
    "\n",
    "results = []\n",
    "for case in cases:\n",
    "    weights = {\"s_000\": case[\"alpha2\"], \"s_111\": case[\"beta2\"]}\n",
    "    df = weighted_collapse(dag, D_values, \"s_aGHZ\", weights, beta=1.0, trials=1000)\n",
    "    df[\"|alpha|^2\"] = case[\"alpha2\"]\n",
    "    results.append(df)\n",
    "\n",
    "final_df = pd.concat(results).reset_index(drop=True)\n",
    "final_df\n"
   ]
  },
  {
   "cell_type": "code",
   "execution_count": null,
   "id": "8fe1e6cc",
   "metadata": {},
   "outputs": [],
   "source": [
    "import seaborn as sns\n",
    "sns.set(style=\"whitegrid\")\n",
    "\n",
    "plt.figure(figsize=(8, 5))\n",
    "sns.scatterplot(data=final_df, x=\"Expected Born Probability\", y=\"Empirical Probability\", hue=\"Outcome\", s=100)\n",
    "plt.plot([0, 1], [0, 1], \"--\", color=\"gray\")\n",
    "plt.title(\"LFT vs. Born Rule for Asymmetric GHZ\")\n",
    "plt.xlabel(\"Expected Born Probability (|α|² or |β|²)\")\n",
    "plt.ylabel(\"Empirical LFT Probability\")\n",
    "plt.legend()\n",
    "plt.show()\n"
   ]
  }
 ],
 "metadata": {},
 "nbformat": 4,
 "nbformat_minor": 5
}
