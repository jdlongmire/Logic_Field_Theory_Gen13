{
 "cells": [
  {
   "cell_type": "markdown",
   "id": "83f8da64",
   "metadata": {},
   "source": [
    "# Logic Field Theory (LFT): GHZ State Collapse Simulation\n",
    "This Colab-ready notebook simulates the collapse of the GHZ state\n",
    "using Logic Field Theory (LFT), assigning logical strain values (D) based on\n",
    "logical violations (v_I, v_N, v_E) and using a Directed Acyclic Graph (DAG)\n",
    "to stochastically select the collapse path. The goal is to evaluate whether\n",
    "LFT predicts an approximately 50/50 split between classical outcomes |000⟩ and |111⟩,\n",
    "analogous to the Born rule prediction from quantum mechanics.\n"
   ]
  },
  {
   "cell_type": "code",
   "execution_count": null,
   "id": "d44a6337",
   "metadata": {},
   "outputs": [],
   "source": [
    "import numpy as np\n",
    "import pandas as pd\n",
    "import matplotlib.pyplot as plt\n",
    "import seaborn as sns\n",
    "import random\n",
    "\n",
    "random.seed(42)\n",
    "np.random.seed(42)"
   ]
  },
  {
   "cell_type": "markdown",
   "id": "e58ecf94",
   "metadata": {},
   "source": [
    "## DAG and Logical Strain (D) Definitions\n",
    "The GHZ DAG consists of:\n",
    "- `s_GHZ`: Initial state with high logical strain\n",
    "- `s_mid_GHZ`: Intermediate entangled state with lower strain\n",
    "- `s_000`, `s_111`: Classical outcomes with zero strain\n"
   ]
  },
  {
   "cell_type": "code",
   "execution_count": null,
   "id": "983f9b12",
   "metadata": {},
   "outputs": [],
   "source": [
    "# Define the DAG structure and D values\n",
    "dag_ghz = {\n",
    "    's_GHZ': ['s_mid_GHZ', 's_000', 's_111'],\n",
    "    's_mid_GHZ': ['s_000', 's_111'],\n",
    "    's_000': [],\n",
    "    's_111': []\n",
    "}\n",
    "\n",
    "# Logical strain (D values)\n",
    "D_ghz = {\n",
    "    's_GHZ': 1.67,\n",
    "    's_mid_GHZ': 0.83,\n",
    "    's_000': 0.0,\n",
    "    's_111': 0.0\n",
    "}"
   ]
  },
  {
   "cell_type": "markdown",
   "id": "e88b3fa5",
   "metadata": {},
   "source": [
    "## Collapse Algorithms\n",
    "- Deterministic: always picks the lowest D child.\n",
    "- Stochastic: samples paths using a Boltzmann-weighted probability based on D.\n"
   ]
  },
  {
   "cell_type": "code",
   "execution_count": null,
   "id": "4dcc3507",
   "metadata": {},
   "outputs": [],
   "source": [
    "def deterministic_collapse(dag, D, start='s_GHZ'):\n",
    "    current = start\n",
    "    while dag[current]:\n",
    "        current = min(dag[current], key=lambda c: D[c])\n",
    "    return current\n",
    "\n",
    "def stochastic_collapse(dag, D, beta, start='s_GHZ'):\n",
    "    current = start\n",
    "    while dag[current]:\n",
    "        children = dag[current]\n",
    "        weights = np.exp([-beta * D[c] for c in children])\n",
    "        probs = weights / np.sum(weights)\n",
    "        current = np.random.choice(children, p=probs)\n",
    "    return current"
   ]
  },
  {
   "cell_type": "markdown",
   "id": "ed1a1de6",
   "metadata": {},
   "source": [
    "## Simulate Stochastic Collapse Across Beta Values\n",
    "Here we run the stochastic collapse algorithm for a range of β values\n",
    "and observe the distribution of outcomes (s_000 vs s_111).\n"
   ]
  },
  {
   "cell_type": "code",
   "execution_count": null,
   "id": "df52b149",
   "metadata": {},
   "outputs": [],
   "source": [
    "beta_values = [0.1, 1.0, 5.0, 10.0]\n",
    "n_trials = 1000\n",
    "\n",
    "results_ghz = {}\n",
    "\n",
    "for beta in beta_values:\n",
    "    counts = {'s_000': 0, 's_111': 0}\n",
    "    for _ in range(n_trials):\n",
    "        result = stochastic_collapse(dag_ghz, D_ghz, beta)\n",
    "        if result in counts:\n",
    "            counts[result] += 1\n",
    "    results_ghz[beta] = {k: v / n_trials for k, v in counts.items()}\n",
    "\n",
    "df_ghz = pd.DataFrame(results_ghz).T\n",
    "display(df_ghz)"
   ]
  },
  {
   "cell_type": "code",
   "execution_count": null,
   "id": "3710489d",
   "metadata": {},
   "outputs": [],
   "source": [
    "df_ghz.plot(kind='bar', stacked=True)\n",
    "plt.title('GHZ State Collapse Simulation Results (LFT)')\n",
    "plt.ylabel('Probability')\n",
    "plt.xlabel('Beta')\n",
    "plt.xticks(rotation=0)\n",
    "plt.legend(title='Final State')\n",
    "plt.tight_layout()\n",
    "plt.show()"
   ]
  },
  {
   "cell_type": "markdown",
   "id": "3e32dbf9",
   "metadata": {},
   "source": [
    "## Conclusion\n",
    "The simulation shows that Logic Field Theory, extended to GHZ states,\n",
    "predicts a roughly 50/50 distribution of outcomes between |000⟩ and |111⟩,\n",
    "matching the expected quantum mechanical behavior and reinforcing the LFT model."
   ]
  }
 ],
 "metadata": {},
 "nbformat": 4,
 "nbformat_minor": 5
}
