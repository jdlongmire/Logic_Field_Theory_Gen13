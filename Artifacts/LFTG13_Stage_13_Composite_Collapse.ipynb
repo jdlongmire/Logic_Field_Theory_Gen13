{
 "cells": [
  {
   "cell_type": "markdown",
   "id": "dd247f8b",
   "metadata": {},
   "source": [
    "# Logic Field Theory — Stage 13: Composite Systems and Logical Partial Trace"
   ]
  },
  {
   "cell_type": "markdown",
   "id": "2f17669f",
   "metadata": {},
   "source": [
    "## Overview\n",
    "In this stage, we extend Logic Field Theory (LFT) to composite quantum systems. We define how logical strain values combine over tensor products, introduce the LFT-modified collapse probability for joint outcomes, and define the 'logical partial trace' as a marginalization over joint LFT-modulated probabilities."
   ]
  },
  {
   "cell_type": "markdown",
   "id": "39f1207b",
   "metadata": {},
   "source": [
    "## Entangled State\n",
    "We analyze the entangled state:\n",
    "\n",
    "$$|\\Psi\\rangle = \\sqrt{0.6}|00\\rangle + \\sqrt{0.4}|11\\rangle$$\n",
    "Only the $|00\\rangle$ and $|11\\rangle$ components have non-zero amplitudes. Logical strain values are assigned as follows:\n",
    "\n",
    "- $D(00) = 0.1$\n",
    "- $D(11) = 0.4$\n",
    "\n",
    "We evaluate the joint and marginal probabilities under LFT for different values of the sensitivity parameter $\\beta$."
   ]
  },
  {
   "cell_type": "markdown",
   "id": "b3f0cd22",
   "metadata": {},
   "source": [
    "## Collapse Probability Formula\n",
    "For a joint outcome $(i,j)$, the LFT-modified collapse probability is:\n",
    "\n",
    "$$P(i,j) = \\frac{|c_{ij}|^2 \\cdot e^{-\\beta D(i,j)}}{\\sum_{k,l} |c_{kl}|^2 \\cdot e^{-\\beta D(k,l)}}$$\n",
    "\n",
    "The marginal probability for subsystem A is computed via the logical partial trace:\n",
    "\n",
    "$$P(i) = \\sum_j P(i,j)$$"
   ]
  },
  {
   "cell_type": "markdown",
   "id": "28bd03e1",
   "metadata": {},
   "source": [
    "## Python Code\n",
    "Below is the full implementation in Python."
   ]
  },
  {
   "cell_type": "code",
   "execution_count": null,
   "id": "5fbceec7",
   "metadata": {},
   "outputs": [],
   "source": [
    "# Define beta values and corresponding D values for joint outcomes\n",
    "import numpy as np\n",
    "import pandas as pd\n",
    "import matplotlib.pyplot as plt\n",
    "\n",
    "beta_values = [0.1, 0.5, 1.0, 2.0, 5.0]\n",
    "D_00 = 0.1\n",
    "D_11 = 0.4\n",
    "amp_00 = 0.6\n",
    "amp_11 = 0.4\n",
    "\n",
    "results = []\n",
    "for beta in beta_values:\n",
    "    exp_00 = np.exp(-beta * D_00)\n",
    "    exp_11 = np.exp(-beta * D_11)\n",
    "    num_00 = amp_00 * exp_00\n",
    "    num_11 = amp_11 * exp_11\n",
    "    denom = num_00 + num_11\n",
    "    p_00 = num_00 / denom\n",
    "    p_11 = num_11 / denom\n",
    "    p_a0 = p_00\n",
    "    p_a1 = p_11\n",
    "    results.append([beta, exp_00, exp_11, num_00, num_11, denom, p_00, p_11, p_a0, p_a1])\n",
    "\n",
    "df = pd.DataFrame(results, columns=['β', 'exp(-β·D(00))', 'exp(-β·D(11))', 'num(00)', 'num(11)', 'denom', 'P(00)', 'P(11)', 'P(A=0)', 'P(A=1)'])\n",
    "df"
   ]
  },
  {
   "cell_type": "code",
   "execution_count": null,
   "id": "455cb473",
   "metadata": {},
   "outputs": [],
   "source": [
    "# Plot Joint Probabilities\n",
    "plt.figure(figsize=(8,5))\n",
    "plt.plot(df['β'], df['P(00)'], label='P(00)', marker='o')\n",
    "plt.plot(df['β'], df['P(11)'], label='P(11)', marker='o')\n",
    "plt.title('LFT Joint Collapse Probabilities vs. β')\n",
    "plt.xlabel('β')\n",
    "plt.ylabel('Probability')\n",
    "plt.legend()\n",
    "plt.grid(True)\n",
    "plt.show()"
   ]
  },
  {
   "cell_type": "code",
   "execution_count": null,
   "id": "fd3098f6",
   "metadata": {},
   "outputs": [],
   "source": [
    "# Plot Marginal Probabilities for Subsystem A\n",
    "plt.figure(figsize=(8,5))\n",
    "plt.plot(df['β'], df['P(A=0)'], label='P(A=0)', marker='o')\n",
    "plt.plot(df['β'], df['P(A=1)'], label='P(A=1)', marker='o')\n",
    "plt.title('LFT Marginal Probabilities for A vs. β')\n",
    "plt.xlabel('β')\n",
    "plt.ylabel('Probability')\n",
    "plt.legend()\n",
    "plt.grid(True)\n",
    "plt.show()"
   ]
  },
  {
   "cell_type": "markdown",
   "id": "70e8be8e",
   "metadata": {},
   "source": [
    "## Summary\n",
    "- Logical strain values D(i,j) influence collapse probabilities via an exponential bias.\n",
    "- Subsystems inherit modulation from the full system due to the logical partial trace.\n",
    "- As β increases, outcomes with lower D values are increasingly favored.\n",
    "- This shows that in LFT, logical coherence of the full system influences local (subsystem) statistics.\n",
    "\n",
    "Next stage will generalize this to three-qubit systems or mixed joint density matrices."
   ]
  }
 ],
 "metadata": {},
 "nbformat": 4,
 "nbformat_minor": 5
}
