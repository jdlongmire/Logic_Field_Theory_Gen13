{
 "cells": [
  {
   "cell_type": "markdown",
   "id": "4db00fcf",
   "metadata": {},
   "source": [
    "# Logic Field Theory: Stage 17 – Dynamic Strain and Collapse Evolution\n",
    "This notebook explores how the logical strain of a quantum state evolves over time, and how that affects the collapse probability according to Logic Field Theory (LFT). It extends Postulates 5 and 6 into a dynamic regime, with time-dependent strain D(ψ, t), enabling new predictions about collapse timing and null result behavior."
   ]
  },
  {
   "cell_type": "markdown",
   "id": "8b0ba0fe",
   "metadata": {},
   "source": [
    "## Postulates Recap\n",
    "**Postulate 5 (Collapse Realizability):**\n",
    "$$ P_{\\text{realize}}(\\psi) = \\exp(-\\beta \\cdot D(\\psi)) $$\n",
    "\n",
    "**Postulate 6 (Collapse Threshold Rule):**\n",
    "$$ P_{\\text{null}}(\\psi) = \\begin{cases} 1 - P_{\\text{realize}}(\\psi), & P_{\\text{realize}}(\\psi) \\geq \\varepsilon \\\\ 1, & P_{\\text{realize}}(\\psi) < \\varepsilon \\end{cases} $$\n",
    "\n",
    "where $D(\\psi)$ is the total logical strain, $\\beta$ is the strain sensitivity parameter, and $\\varepsilon$ is the minimum realizability threshold."
   ]
  },
  {
   "cell_type": "markdown",
   "id": "e445cb55",
   "metadata": {},
   "source": [
    "## Dynamic Strain Model\n",
    "We define the strain as a function of time:\n",
    "\n",
    "$$ D(t) = D_0 + \\gamma \\cdot f(t) $$\n",
    "\n",
    "In this simulation, we use a linear strain growth function:\n",
    "\n",
    "$$ f(t) = t $$"
   ]
  },
  {
   "cell_type": "code",
   "execution_count": null,
   "id": "7b4873b4",
   "metadata": {},
   "outputs": [],
   "source": [
    "import numpy as np\n",
    "import pandas as pd\n",
    "import matplotlib.pyplot as plt\n",
    "\n",
    "# Parameters\n",
    "D0 = 1.5\n",
    "gamma = 0.1\n",
    "epsilon = 0.01\n",
    "beta_values = [0.5, 1.0, 2.0, 3.0]\n",
    "time = np.linspace(0, 100, 300)\n",
    "f_t = time  # Linear strain growth\n",
    "D_t = D0 + gamma * f_t\n",
    "\n",
    "# Compute P_realize and P_null\n",
    "data = {'t': time, 'D(t)': D_t}\n",
    "collapse_times = {}\n",
    "for beta in beta_values:\n",
    "    p_realize = np.exp(-beta * D_t)\n",
    "    p_null = np.where(p_realize >= epsilon, 1 - p_realize, 1.0)\n",
    "    collapse_index = np.where(p_realize < epsilon)[0]\n",
    "    t_collapse = time[collapse_index[0]] if len(collapse_index) > 0 else np.nan\n",
    "    collapse_times[beta] = t_collapse\n",
    "    data[f'P_realize(t)_beta_{beta}'] = p_realize\n",
    "    data[f'P_null(t)_beta_{beta}'] = p_null\n",
    "    data[f'collapse_time_beta_{beta}'] = [t_collapse] * len(time)\n",
    "\n",
    "df = pd.DataFrame(data)\n",
    "df.head()"
   ]
  },
  {
   "cell_type": "code",
   "execution_count": null,
   "id": "95a0e27c",
   "metadata": {},
   "outputs": [],
   "source": [
    "fig, axs = plt.subplots(len(beta_values), 1, figsize=(10, 12), sharex=True)\n",
    "for i, beta in enumerate(beta_values):\n",
    "    axs[i].plot(time, df[f'P_realize(t)_beta_{beta}'], label=f'P_realize (β={beta})', color='blue')\n",
    "    axs[i].plot(time, df[f'P_null(t)_beta_{beta}'], label=f'P_null (β={beta})', color='red')\n",
    "    axs[i].axhline(epsilon, color='gray', linestyle='--', label='ε threshold')\n",
    "    axs[i].set_ylabel('Probability')\n",
    "    axs[i].legend()\n",
    "axs[-1].set_xlabel('Time (t)')\n",
    "plt.suptitle('Time Evolution of P_realize(t) and P_null(t) for GHZ State (Dynamic D(t))')\n",
    "plt.tight_layout()\n",
    "plt.show()"
   ]
  },
  {
   "cell_type": "code",
   "execution_count": null,
   "id": "582b4075",
   "metadata": {},
   "outputs": [],
   "source": [
    "plt.figure(figsize=(8, 5))\n",
    "beta_vals = list(collapse_times.keys())\n",
    "t_collapse_vals = list(collapse_times.values())\n",
    "plt.plot(beta_vals, t_collapse_vals, marker='o', linestyle='-', color='green')\n",
    "plt.xlabel('β (Strain Sensitivity)')\n",
    "plt.ylabel('Collapse Time t*')\n",
    "plt.title('Collapse Time t* vs β')\n",
    "plt.grid(True)\n",
    "plt.show()"
   ]
  }
 ],
 "metadata": {},
 "nbformat": 4,
 "nbformat_minor": 5
}