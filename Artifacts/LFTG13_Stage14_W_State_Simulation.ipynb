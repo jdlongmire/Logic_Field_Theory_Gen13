{
 "cells": [
  {
   "cell_type": "markdown",
   "id": "697a563c",
   "metadata": {},
   "source": [
    "# Stage 14: LFT Collapse for 3-Qubit W-State with Differential Logical Strain\n",
    "**Objective:** Apply the refined LFT collapse rule to a 3-qubit W-state with distinct logical strain values (D-values) for each classical outcome.\n",
    "\n",
    "**Theory Recap:**\n",
    "The LFT collapse probability for a state \\(|\\psi\\rangle\\) collapsing to outcome \\(s_j\\) is:\n",
    "\\[ P(s_j) = \\frac{|\\langle s_j | \\psi \\rangle|^2 \\cdot e^{-\\beta D(s_j)}}{\\sum_k |\\langle s_k | \\psi \\rangle|^2 \\cdot e^{-\\beta D(s_k)}} \\]\n",
    "This simulation demonstrates this for the 3-qubit W-state:\n",
    "\\[ |W\\rangle = \\frac{1}{\\sqrt{3}}(|001\\rangle + |010\\rangle + |100\\rangle) \\]\n",
    "with D-values:\n",
    "- \\( D(001) = 0.1 \\)\n",
    "- \\( D(010) = 0.2 \\)\n",
    "- \\( D(100) = 0.3 \\)\n"
   ]
  },
  {
   "cell_type": "code",
   "execution_count": null,
   "id": "99b7e4c7",
   "metadata": {},
   "outputs": [],
   "source": [
    "\n",
    "import numpy as np\n",
    "import pandas as pd\n",
    "import matplotlib.pyplot as plt\n",
    "\n",
    "# Parameters\n",
    "beta_values = [0.1, 0.5, 1.0, 2.0, 5.0]\n",
    "amplitudes = {'001': 1/np.sqrt(3), '010': 1/np.sqrt(3), '100': 1/np.sqrt(3)}\n",
    "D_values = {'001': 0.1, '010': 0.2, '100': 0.3}\n",
    "\n",
    "# Compute probabilities\n",
    "results = []\n",
    "for beta in beta_values:\n",
    "    exp_factors = {k: np.exp(-beta * D_values[k]) for k in D_values}\n",
    "    numerators = {k: amplitudes[k]**2 * exp_factors[k] for k in amplitudes}\n",
    "    Z = sum(numerators.values())\n",
    "    probabilities = {k: numerators[k] / Z for k in numerators}\n",
    "    results.append({\n",
    "        'β': beta,\n",
    "        'P(001)': probabilities['001'],\n",
    "        'P(010)': probabilities['010'],\n",
    "        'P(100)': probabilities['100']\n",
    "    })\n",
    "\n",
    "df = pd.DataFrame(results)\n",
    "df\n"
   ]
  },
  {
   "cell_type": "code",
   "execution_count": null,
   "id": "994c1fd8",
   "metadata": {},
   "outputs": [],
   "source": [
    "\n",
    "plt.figure(figsize=(10, 6))\n",
    "plt.plot(df['β'], df['P(001)'], marker='o', label='P(001), D=0.1')\n",
    "plt.plot(df['β'], df['P(010)'], marker='s', label='P(010), D=0.2')\n",
    "plt.plot(df['β'], df['P(100)'], marker='^', label='P(100), D=0.3')\n",
    "plt.axhline(1/3, color='gray', linestyle='--', label='Born Rule (1/3)')\n",
    "plt.xlabel('β (strain sensitivity)')\n",
    "plt.ylabel('Collapse Probability')\n",
    "plt.title('LFT Collapse Probabilities for W-State Outcomes vs β')\n",
    "plt.legend()\n",
    "plt.grid(True)\n",
    "plt.show()\n"
   ]
  },
  {
   "cell_type": "markdown",
   "id": "1931cea4",
   "metadata": {},
   "source": [
    "### Interpretation\n",
    "- At \\( \\beta = 0 \\), all outcome probabilities approach 1/3 (Born rule).\n",
    "- As \\( \\beta \\) increases, lower-strain outcomes become more likely.\n",
    "- This simulation illustrates the logical strain-based selection mechanism in LFT.\n",
    "\n",
    "**Next:** This sets the stage for further simulations with mixed states, decoherence, and multi-qubit logic networks."
   ]
  }
 ],
 "metadata": {},
 "nbformat": 4,
 "nbformat_minor": 5
}
