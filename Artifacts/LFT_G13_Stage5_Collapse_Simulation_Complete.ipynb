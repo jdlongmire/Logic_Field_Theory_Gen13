{
 "cells": [
  {
   "cell_type": "markdown",
   "id": "b6d1f0d0",
   "metadata": {},
   "source": [
    "# Logic Field Theory (LFT) Collapse Simulation – Stage 5\n",
    "This notebook simulates logical collapse dynamics in Logic Field Theory using a Directed Acyclic Graph (DAG).\n",
    "\n",
    "It demonstrates:\n",
    "- Deterministic collapse via logical strain minimization\n",
    "- Stochastic collapse using Boltzmann-weighted transitions\n",
    "- DAG visualization of logical state transitions\n",
    "\n",
    "States modeled:\n",
    "- `s_Bell`: entangled (high strain)\n",
    "- `s_mid`: intermediate logical state\n",
    "- `s_01`, `s_10`: separable, classical-logic-valid states\n"
   ]
  },
  {
   "cell_type": "code",
   "execution_count": null,
   "id": "7ded266e",
   "metadata": {},
   "outputs": [],
   "source": [
    "import networkx as nx\n",
    "import numpy as np\n",
    "import matplotlib.pyplot as plt\n",
    "import random"
   ]
  },
  {
   "cell_type": "code",
   "execution_count": null,
   "id": "11328499",
   "metadata": {},
   "outputs": [],
   "source": [
    "# Define DAG and logical strain values\n",
    "G = nx.DiGraph()\n",
    "\n",
    "# Logical states with D(s)\n",
    "states = {\n",
    "    \"s_Bell\": 1.0,\n",
    "    \"s_mid\": 0.5,\n",
    "    \"s_01\": 0.0,\n",
    "    \"s_10\": 0.0\n",
    "}\n",
    "\n",
    "# Add nodes with attributes\n",
    "for s, d in states.items():\n",
    "    G.add_node(s, D=d)\n",
    "\n",
    "# Add directed edges: only to equal or lower strain\n",
    "for si in G.nodes:\n",
    "    for sj in G.nodes:\n",
    "        if si != sj and states[sj] <= states[si]:\n",
    "            G.add_edge(si, sj)"
   ]
  },
  {
   "cell_type": "code",
   "execution_count": null,
   "id": "279298e3",
   "metadata": {},
   "outputs": [],
   "source": [
    "def collapse_path(G, start, D_crit=0.0):\n",
    "    path = [start]\n",
    "    current = start\n",
    "    while G.nodes[current][\"D\"] > D_crit:\n",
    "        neighbors = list(G.successors(current))\n",
    "        if not neighbors:\n",
    "            break\n",
    "        next_node = min(neighbors, key=lambda n: G.nodes[n][\"D\"])\n",
    "        if G.nodes[next_node][\"D\"] >= G.nodes[current][\"D\"]:\n",
    "            break\n",
    "        path.append(next_node)\n",
    "        current = next_node\n",
    "    return path"
   ]
  },
  {
   "cell_type": "code",
   "execution_count": null,
   "id": "5af45356",
   "metadata": {},
   "outputs": [],
   "source": [
    "def stochastic_collapse_path(G, start, beta=5.0, D_crit=0.0):\n",
    "    path = [start]\n",
    "    current = start\n",
    "    while G.nodes[current][\"D\"] > D_crit:\n",
    "        neighbors = list(G.successors(current))\n",
    "        if not neighbors:\n",
    "            break\n",
    "        D_vals = np.array([G.nodes[n][\"D\"] for n in neighbors])\n",
    "        weights = np.exp(-beta * D_vals)\n",
    "        probs = weights / weights.sum()\n",
    "        next_node = np.random.choice(neighbors, p=probs)\n",
    "        if G.nodes[next_node][\"D\"] >= G.nodes[current][\"D\"]:\n",
    "            break\n",
    "        path.append(next_node)\n",
    "        current = next_node\n",
    "    return path"
   ]
  },
  {
   "cell_type": "code",
   "execution_count": null,
   "id": "397ca8b8",
   "metadata": {},
   "outputs": [],
   "source": [
    "def visualize_graph(G, path=None):\n",
    "    pos = nx.spring_layout(G, seed=42)\n",
    "    labels = {n: f\"{n}\\nD={G.nodes[n]['D']}\" for n in G.nodes}\n",
    "    nx.draw(G, pos, with_labels=True, labels=labels, node_size=2500,\n",
    "            node_color='lightblue', font_size=9, font_weight='bold')\n",
    "    if path:\n",
    "        edge_path = list(zip(path[:-1], path[1:]))\n",
    "        nx.draw_networkx_edges(G, pos, edgelist=edge_path, edge_color='red', width=2)\n",
    "    plt.title(\"Logical Collapse DAG\")\n",
    "    plt.axis('off')\n",
    "    plt.show()"
   ]
  },
  {
   "cell_type": "code",
   "execution_count": null,
   "id": "bc111c7d",
   "metadata": {},
   "outputs": [],
   "source": [
    "det_path = collapse_path(G, \"s_Bell\")\n",
    "stoch_path = stochastic_collapse_path(G, \"s_Bell\", beta=5.0)\n",
    "\n",
    "print(\"Deterministic Path:\", det_path)\n",
    "print(\"Stochastic Path:\", stoch_path)\n",
    "\n",
    "visualize_graph(G, det_path)"
   ]
  }
 ],
 "metadata": {},
 "nbformat": 4,
 "nbformat_minor": 5
}