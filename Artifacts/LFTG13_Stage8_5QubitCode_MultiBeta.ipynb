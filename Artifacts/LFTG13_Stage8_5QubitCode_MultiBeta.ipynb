
# LFT Stage 8 – 5-Qubit Code State |L_0⟩ Collapse Simulation

This notebook simulates the collapse of the logical field representation of the 5-qubit quantum error correction code state |L_0⟩ using the LFT framework. The DAG contains a single node `s_L0` connected to 16 classical outcome states, each with D=0.0.

## Setup

```python
import numpy as np
import pandas as pd
import matplotlib.pyplot as plt
import networkx as nx
import random
```

## DAG and Simulation

```python
outcome_states = ['00000', '10010', '01001', '10100', '01010', '11011', '00110', '11101',
                  '00011', '10001', '01100', '10111', '01111', '11110', '00101', '11000']
G = nx.DiGraph()
start_node = 's_L0'
G.add_node(start_node, D=2.0)
for state in outcome_states:
    G.add_node(state, D=0.0)
    G.add_edge(start_node, state)

def stochastic_collapse(graph, start, beta):
    neighbors = list(graph.successors(start))
    D_values = np.array([graph.nodes[n]['D'] for n in neighbors])
    weights = np.exp(-beta * D_values)
    probabilities = weights / weights.sum()
    return random.choices(neighbors, weights=probabilities, k=1)[0]

beta_values = [0.1, 0.5, 1.0, 2.0, 5.0]
results = {}

for beta in beta_values:
    trials = 10000
    counts = {state: 0 for state in outcome_states}
    for _ in range(trials):
        result = stochastic_collapse(G, start_node, beta)
        counts[result] += 1
    probabilities = {k: v / trials for k, v in counts.items()}
    results[beta] = probabilities

df = pd.DataFrame(results).T
df
```

## Plot Results

```python
plt.figure(figsize=(12, 6))
for state in outcome_states:
    plt.plot(df.index, df[state], marker='o', label=state)
plt.axhline(1/16, color='gray', linestyle='--', label='Expected 1/16')
plt.xlabel('Beta (β)')
plt.ylabel('Probability')
plt.title('Probability of Each Outcome vs. β for |L_0⟩ Collapse')
plt.legend(bbox_to_anchor=(1.05, 1), loc='upper left', fontsize='small')
plt.tight_layout()
plt.grid(True)
plt.show()
```
